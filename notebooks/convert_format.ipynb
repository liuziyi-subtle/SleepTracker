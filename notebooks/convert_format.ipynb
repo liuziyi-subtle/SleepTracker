{
 "metadata": {
  "language_info": {
   "codemirror_mode": {
    "name": "ipython",
    "version": 3
   },
   "file_extension": ".py",
   "mimetype": "text/x-python",
   "name": "python",
   "nbconvert_exporter": "python",
   "pygments_lexer": "ipython3",
   "version": "3.8.5-final"
  },
  "orig_nbformat": 2,
  "kernelspec": {
   "name": "python3",
   "display_name": "Python 3"
  }
 },
 "nbformat": 4,
 "nbformat_minor": 2,
 "cells": [
  {
   "source": [
    "## Load Libraries"
   ],
   "cell_type": "markdown",
   "metadata": {}
  },
  {
   "cell_type": "code",
   "execution_count": 1,
   "metadata": {},
   "outputs": [],
   "source": [
    "import json\n",
    "from random import randint, sample\n",
    "import pandas as pd\n",
    "import numpy as np\n",
    "import pickle\n",
    "import matplotlib.pyplot as plt\n",
    "from glob import glob\n",
    "\n",
    "np.set_printoptions(suppress=True)\n",
    "\n",
    "pd.set_option('display.max_rows', 150)"
   ]
  },
  {
   "cell_type": "code",
   "execution_count": 2,
   "metadata": {},
   "outputs": [],
   "source": [
    "root_dir = \"/Users/liuziyi/Documents/Lifesense/Data/SleepTracker/437\""
   ]
  },
  {
   "cell_type": "code",
   "execution_count": 3,
   "metadata": {},
   "outputs": [],
   "source": [
    "record_paths = glob(os.path.join(root_dir, \"raw/*.csv\"))"
   ]
  },
  {
   "cell_type": "code",
   "execution_count": 7,
   "metadata": {},
   "outputs": [],
   "source": [
    "for rp in record_paths[:1]:\n",
    "    record = pd.read_csv(rp, engine=\"python\", header=None)\n",
    "    record = record.loc[record[0] == 2, [1, 2, 3]].values\n",
    "    hr = [1] * record.shape[0]\n",
    "    hr_switch = hr\n",
    "    hr_wear_indicator = hr\n",
    "    record = np.c_[hr, record, hr_switch, hr_wear_indicator]"
   ]
  },
  {
   "cell_type": "code",
   "execution_count": 21,
   "metadata": {},
   "outputs": [
    {
     "output_type": "execute_result",
     "data": {
      "text/plain": [
       "['/Users/liuziyi/Documents/Lifesense/Data/SleepTracker/437/raw/ls_data_20201126003829.csv',\n",
       " '/Users/liuziyi/Documents/Lifesense/Data/SleepTracker/437/raw/ls_data_20201126003712.csv']"
      ]
     },
     "metadata": {},
     "execution_count": 21
    }
   ],
   "source": [
    "record_paths"
   ]
  },
  {
   "cell_type": "code",
   "execution_count": 8,
   "metadata": {},
   "outputs": [
    {
     "output_type": "execute_result",
     "data": {
      "text/plain": [
       "array([[    1., -5632., -1600.,  5888.,     1.,     1.],\n",
       "       [    1., -5632., -1600.,  5696.,     1.,     1.],\n",
       "       [    1., -5696., -1536.,  5632.,     1.,     1.],\n",
       "       ...,\n",
       "       [    1.,  1536.,  1600.,  7936.,     1.,     1.],\n",
       "       [    1.,  1664.,  1664.,  7936.,     1.,     1.],\n",
       "       [    1.,  1600.,  1600.,  7936.,     1.,     1.]])"
      ]
     },
     "metadata": {},
     "execution_count": 8
    }
   ],
   "source": [
    "record"
   ]
  },
  {
   "cell_type": "code",
   "execution_count": null,
   "metadata": {},
   "outputs": [],
   "source": []
  }
 ]
}