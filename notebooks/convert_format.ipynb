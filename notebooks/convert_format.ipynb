{
 "metadata": {
  "language_info": {
   "codemirror_mode": {
    "name": "ipython",
    "version": 3
   },
   "file_extension": ".py",
   "mimetype": "text/x-python",
   "name": "python",
   "nbconvert_exporter": "python",
   "pygments_lexer": "ipython3",
   "version": "3.8.5-final"
  },
  "orig_nbformat": 2,
  "kernelspec": {
   "name": "python3",
   "display_name": "Python 3"
  }
 },
 "nbformat": 4,
 "nbformat_minor": 2,
 "cells": [
  {
   "source": [
    "## Load Libraries"
   ],
   "cell_type": "markdown",
   "metadata": {}
  },
  {
   "cell_type": "code",
   "execution_count": 10,
   "metadata": {},
   "outputs": [],
   "source": [
    "import json\n",
    "from random import randint, sample\n",
    "import pandas as pd\n",
    "import numpy as np\n",
    "import pickle\n",
    "import matplotlib.pyplot as plt\n",
    "from glob import glob\n",
    "\n",
    "np.set_printoptions(suppress=True)\n",
    "\n",
    "pd.set_option('display.max_rows', 150)"
   ]
  },
  {
   "cell_type": "code",
   "execution_count": 11,
   "metadata": {},
   "outputs": [],
   "source": [
    "root_dir = \"/Users/liuziyi/Documents/Lifesense/Data/SleepTracker/437\""
   ]
  },
  {
   "cell_type": "code",
   "execution_count": 17,
   "metadata": {},
   "outputs": [],
   "source": [
    "record_paths = glob(os.path.join(root_dir, \"raw/*.csv\"))"
   ]
  },
  {
   "cell_type": "code",
   "execution_count": 25,
   "metadata": {},
   "outputs": [
    {
     "output_type": "stream",
     "name": "stdout",
     "text": [
      "ERROR! Session/line number was not unique in database. History logging moved to new session 1046\n"
     ]
    }
   ],
   "source": [
    "for rp in record_paths[:1]:\n",
    "    record = pd.read_csv(rp, engine=\"python\", header=None)\n",
    "    record = record.loc[record[0] == 2, [1, 2, 3]].values\n",
    "    hr = [1] * record.shape[0]\n",
    "    hr_switch = hr\n",
    "    hr_wear_indicator = hr\n",
    "    # record = np.c_[hr, reocrd, hr_switch, hr_wear_indicator]"
   ]
  },
  {
   "cell_type": "code",
   "execution_count": 21,
   "metadata": {},
   "outputs": [
    {
     "output_type": "execute_result",
     "data": {
      "text/plain": [
       "['/Users/liuziyi/Documents/Lifesense/Data/SleepTracker/437/raw/ls_data_20201126003829.csv',\n",
       " '/Users/liuziyi/Documents/Lifesense/Data/SleepTracker/437/raw/ls_data_20201126003712.csv']"
      ]
     },
     "metadata": {},
     "execution_count": 21
    }
   ],
   "source": [
    "record_paths"
   ]
  },
  {
   "cell_type": "code",
   "execution_count": 24,
   "metadata": {},
   "outputs": [
    {
     "output_type": "execute_result",
     "data": {
      "text/plain": [
       "           1     2       3\n",
       "2      -5632 -1600  5888.0\n",
       "3      -5632 -1600  5696.0\n",
       "4      -5696 -1536  5632.0\n",
       "5      -5632 -1472  5504.0\n",
       "6      -5568 -1792  5376.0\n",
       "...      ...   ...     ...\n",
       "673049  1536  1536  8000.0\n",
       "673050  1536  1664  8000.0\n",
       "673051  1536  1600  7936.0\n",
       "673052  1664  1664  7936.0\n",
       "673053  1600  1600  7936.0\n",
       "\n",
       "[673052 rows x 3 columns]"
      ],
      "text/html": "<div>\n<style scoped>\n    .dataframe tbody tr th:only-of-type {\n        vertical-align: middle;\n    }\n\n    .dataframe tbody tr th {\n        vertical-align: top;\n    }\n\n    .dataframe thead th {\n        text-align: right;\n    }\n</style>\n<table border=\"1\" class=\"dataframe\">\n  <thead>\n    <tr style=\"text-align: right;\">\n      <th></th>\n      <th>1</th>\n      <th>2</th>\n      <th>3</th>\n    </tr>\n  </thead>\n  <tbody>\n    <tr>\n      <th>2</th>\n      <td>-5632</td>\n      <td>-1600</td>\n      <td>5888.0</td>\n    </tr>\n    <tr>\n      <th>3</th>\n      <td>-5632</td>\n      <td>-1600</td>\n      <td>5696.0</td>\n    </tr>\n    <tr>\n      <th>4</th>\n      <td>-5696</td>\n      <td>-1536</td>\n      <td>5632.0</td>\n    </tr>\n    <tr>\n      <th>5</th>\n      <td>-5632</td>\n      <td>-1472</td>\n      <td>5504.0</td>\n    </tr>\n    <tr>\n      <th>6</th>\n      <td>-5568</td>\n      <td>-1792</td>\n      <td>5376.0</td>\n    </tr>\n    <tr>\n      <th>...</th>\n      <td>...</td>\n      <td>...</td>\n      <td>...</td>\n    </tr>\n    <tr>\n      <th>673049</th>\n      <td>1536</td>\n      <td>1536</td>\n      <td>8000.0</td>\n    </tr>\n    <tr>\n      <th>673050</th>\n      <td>1536</td>\n      <td>1664</td>\n      <td>8000.0</td>\n    </tr>\n    <tr>\n      <th>673051</th>\n      <td>1536</td>\n      <td>1600</td>\n      <td>7936.0</td>\n    </tr>\n    <tr>\n      <th>673052</th>\n      <td>1664</td>\n      <td>1664</td>\n      <td>7936.0</td>\n    </tr>\n    <tr>\n      <th>673053</th>\n      <td>1600</td>\n      <td>1600</td>\n      <td>7936.0</td>\n    </tr>\n  </tbody>\n</table>\n<p>673052 rows × 3 columns</p>\n</div>"
     },
     "metadata": {},
     "execution_count": 24
    }
   ],
   "source": [
    "record"
   ]
  },
  {
   "cell_type": "code",
   "execution_count": null,
   "metadata": {},
   "outputs": [],
   "source": []
  }
 ]
}