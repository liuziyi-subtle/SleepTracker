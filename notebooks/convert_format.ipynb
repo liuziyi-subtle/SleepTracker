{
 "metadata": {
  "language_info": {
   "codemirror_mode": {
    "name": "ipython",
    "version": 3
   },
   "file_extension": ".py",
   "mimetype": "text/x-python",
   "name": "python",
   "nbconvert_exporter": "python",
   "pygments_lexer": "ipython3",
   "version": "3.8.5-final"
  },
  "orig_nbformat": 2,
  "kernelspec": {
   "name": "python3",
   "display_name": "Python 3"
  }
 },
 "nbformat": 4,
 "nbformat_minor": 2,
 "cells": [
  {
   "source": [
    "## Load Libraries"
   ],
   "cell_type": "markdown",
   "metadata": {}
  },
  {
   "cell_type": "code",
   "execution_count": 1,
   "metadata": {},
   "outputs": [],
   "source": [
    "import json\n",
    "from random import randint, sample\n",
    "import pandas as pd\n",
    "import numpy as np\n",
    "import pickle\n",
    "import matplotlib.pyplot as plt\n",
    "from glob import glob\n",
    "\n",
    "np.set_printoptions(suppress=True)\n",
    "\n",
    "pd.set_option('display.max_rows', 150)"
   ]
  },
  {
   "cell_type": "code",
   "execution_count": 2,
   "metadata": {},
   "outputs": [],
   "source": [
    "root_dir = \"/Users/liuziyi/Documents/Lifesense/Data/SleepTracker/437\""
   ]
  },
  {
   "cell_type": "code",
   "execution_count": 3,
   "metadata": {},
   "outputs": [],
   "source": [
    "def convert2sleepformat(x):\n",
    "    x = (np.array(x, np.int16) << 2) >> 8\n",
    "    x[x > 127]  = 127\n",
    "    x[x < -128] = -128\n",
    "    x = np.array(127 - x, np.uint8)\n",
    "    return x"
   ]
  },
  {
   "cell_type": "code",
   "execution_count": 4,
   "metadata": {},
   "outputs": [],
   "source": [
    "record_paths = glob(os.path.join(root_dir, \"raw/*.csv\"))\n",
    "\n",
    "for rp in record_paths:\n",
    "    record = pd.read_csv(rp, engine=\"python\", header=None)\n",
    "    record = record.loc[record[0] == 2, [1, 2, 3]].values\n",
    "    record = convert2sleepformat(record)\n",
    "    hr = [1] * record.shape[0]\n",
    "    hr_switch = hr\n",
    "    hr_wear_indicator = hr\n",
    "    record = np.c_[hr, record, hr_switch, hr_wear_indicator]\n",
    "    record = record[::25, :]\n",
    "    np.savetxt(rp.replace(\"raw\", \"results\"), record, delimiter=\",\", fmt=\"%d\")"
   ]
  },
  {
   "cell_type": "code",
   "execution_count": null,
   "metadata": {},
   "outputs": [],
   "source": []
  }
 ]
}